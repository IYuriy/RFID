{
  "nbformat": 4,
  "nbformat_minor": 0,
  "metadata": {
    "colab": {
      "name": "Урок_11_Основи_С++.ipynb",
      "provenance": [],
      "collapsed_sections": [],
      "include_colab_link": true
    },
    "kernelspec": {
      "name": "python3",
      "display_name": "Python 3"
    }
  },
  "cells": [
    {
      "cell_type": "markdown",
      "metadata": {
        "id": "view-in-github",
        "colab_type": "text"
      },
      "source": [
        "<a href=\"https://colab.research.google.com/github/YKochura/RFID/blob/master/%D0%A3%D1%80%D0%BE%D0%BA_11_%D0%9E%D1%81%D0%BD%D0%BE%D0%B2%D0%B8_%D0%A1%2B%2B.ipynb\" target=\"_parent\"><img src=\"https://colab.research.google.com/assets/colab-badge.svg\" alt=\"Open In Colab\"/></a>"
      ]
    },
    {
      "cell_type": "markdown",
      "metadata": {
        "id": "LIgWFfqltGvQ",
        "colab_type": "text"
      },
      "source": [
        "# <div align=\"center\">Домашні завдання</div>\n"
      ]
    },
    {
      "cell_type": "markdown",
      "metadata": {
        "colab_type": "text",
        "id": "4pYHzKrNzUdM"
      },
      "source": [
        "# Завдання #2\n",
        "\n",
        "Створіть програму, яка використовує функцію `sumaMany`. Ця функція приймає чотири параметри: int a, int b, int c, int d та повертає суму цих значень. Результат виконання функції вивести на екран.\n",
        "\n",
        "Відкрийте це посилання для того, щоб приступити до виконання завдання: [repl.it/repls/ScrawnyLostLoopfission](https://repl.it/repls/GiddyNutritiousCircle)"
      ]
    },
    {
      "cell_type": "code",
      "metadata": {
        "id": "p23lir1zyA02",
        "colab_type": "code",
        "colab": {}
      },
      "source": [
        "#include <iostream>\n",
        "using namespace std;\n",
        "\n",
        "int sumaMany(int a) \n",
        "{\n",
        "   \n",
        "}\n",
        "\n",
        "int main() \n",
        "{\n",
        "    \n",
        "   \n",
        "   return 0;\n",
        "}"
      ],
      "execution_count": 0,
      "outputs": []
    },
    {
      "cell_type": "markdown",
      "metadata": {
        "id": "MIF1bDt1QxFJ",
        "colab_type": "text"
      },
      "source": [
        "# <div align=\"center\">Короткий огляд попереднього заняття | Функції  </div>\n"
      ]
    },
    {
      "cell_type": "markdown",
      "metadata": {
        "id": "ozD0i0H0WHv1",
        "colab_type": "text"
      },
      "source": [
        "# Що таке функції?\n",
        "\n",
        "Функція - це група команд, які виконують певне завдання. В `C++` ми можемо визначати власні функції.\n",
        "\n",
        "Використання функцій може мати безліч переваг, зокрема:\n",
        "\n",
        "\n",
        "1.   Ви можете повторно використовувати функції\n",
        "2.   Можете легко протестувати окремі функції\n",
        "3.   Якщо необхідно внести будь-які модифікації коду, ви можете вносити зміни в межах однієї функції, не змінюючи структуру програми\n",
        "\n",
        "\n",
        "\n",
        "\n",
        "```\n",
        "Кожна програма C++ має щонайменше одну функцію - main().\n",
        "```\n",
        "\n",
        "\n"
      ]
    },
    {
      "cell_type": "markdown",
      "metadata": {
        "id": "r_FWmyh3b9fW",
        "colab_type": "text"
      },
      "source": [
        "Перед іменем функції вказується тип даних, який буде повертати ця функція.\n",
        "\n",
        "Інколи функція виконує потрібні операції, проте не повертає значень. Такі функції визначаються за допомогою ключового слова `void`.\n",
        "\n",
        "\n",
        "\n",
        "```\n",
        "void - це базовий тип даних, який позначає пустий стан.\n",
        "```\n",
        "\n"
      ]
    },
    {
      "cell_type": "markdown",
      "metadata": {
        "id": "Yejb4Wlqd17-",
        "colab_type": "text"
      },
      "source": [
        "# Створення функції\n",
        "\n",
        "Синтаксис:\n",
        "\n",
        "\n",
        "\n",
        "```C++\n",
        "\n",
        "тип ім'я_функції(список параметрів)\n",
        "{\n",
        "   // команди для виконання (тіло функції)\n",
        "}\n",
        "```\n",
        "**тип**: Тип даних, що поверне функція.\n",
        "\n",
        "**ім'я_функції**: Ім'я функції (задається англійською).\n",
        "\n",
        "**список параметрів**: Коли функція викликається, ви можете передати певну інформацію через параметри у функцію.\n",
        "\n",
        "**тіло функції**: Група команд, які виконують певне завдання.\n",
        "\n",
        "\n",
        "\n",
        "```\n",
        "Параметри необов’язкові; тобто ви можете мати функцію без параметрів.\n",
        "```\n",
        "\n",
        "Спосіб 1. Давайте розглянемо на практиці як створити просту функцію та скористатися нею: [repl.it/repls/VainElegantSlope](https://repl.it/repls/VainElegantSlope)\n",
        "\n",
        "\n"
      ]
    },
    {
      "cell_type": "code",
      "metadata": {
        "id": "EIRl8TUXcVGK",
        "colab_type": "code",
        "colab": {}
      },
      "source": [
        "#include <iostream>\n",
        "using namespace std;\n",
        "\n",
        "void printRobocode() \n",
        "{\n",
        "    cout << \"Hello, RoboCode!\";\n",
        "}\n",
        "\n",
        "int main() \n",
        "{\n",
        "    printRobocode();\n",
        "   \n",
        "   return 0;\n",
        "}"
      ],
      "execution_count": 0,
      "outputs": []
    },
    {
      "cell_type": "markdown",
      "metadata": {
        "id": "e9IsHvqHkkT7",
        "colab_type": "text"
      },
      "source": [
        "Наша функція під назвою `printRobocode` не повертає жодного значення і не має параметрів.\n",
        "\n",
        "\n",
        "\n",
        "```\n",
        "Для виклику функції просто потрібно передати необхідні параметри (якщо є) разом з назвою функції.\n",
        "```\n",
        "Важливо! Ви повинні оголосити функцію, перш ніж викликати її, інакше отримаєте  помилку.\n"
      ]
    },
    {
      "cell_type": "markdown",
      "metadata": {
        "id": "FsU8e_wBm-TM",
        "colab_type": "text"
      },
      "source": [
        "Спосіб 2. Декларація функції або прототипу функції повідомляє компілятору про ім'я функції та про те, як викликати функцію. Фактичне тіло функції можна визначити окремо. \n",
        "\n",
        "Приклад з прототипом: [repl.it/repls/GenerousFabulousInstances](https://repl.it/repls/GenerousFabulousInstances)"
      ]
    },
    {
      "cell_type": "code",
      "metadata": {
        "id": "47ZudPkklAVi",
        "colab_type": "code",
        "colab": {}
      },
      "source": [
        "#include <iostream>\n",
        "using namespace std;\n",
        "\n",
        "void printRobocode() \n",
        "{\n",
        "    cout << \"Hello, RoboCode!\";\n",
        "}\n",
        "\n",
        "int main() \n",
        "{\n",
        "    printRobocode();\n",
        "   \n",
        "   return 0;\n",
        "}"
      ],
      "execution_count": 0,
      "outputs": []
    },
    {
      "cell_type": "markdown",
      "metadata": {
        "id": "PtfP4u3TpK8W",
        "colab_type": "text"
      },
      "source": [
        "# Параметри функції\n",
        "\n",
        "Синтаксис передачі інформацію у функцію через параметр:\n",
        "\n",
        "\n",
        "\n",
        "```C++\n",
        "void printRobocode(int x) \n",
        "{\n",
        "   cout << x * x;\n",
        "}\n",
        "```\n",
        "\n",
        "Наша функція приймає один параметр (ціле число `x`) і виводить це значення піднесене до квадрату.\n",
        "\n",
        "Приклад: [repl.it/repls/GenerousFabulousInstances](https://repl.it/repls/FirstBluevioletDesignmethod)\n"
      ]
    },
    {
      "cell_type": "code",
      "metadata": {
        "id": "FDVfHC8tqDbq",
        "colab_type": "code",
        "colab": {}
      },
      "source": [
        "#include <iostream>\n",
        "using namespace std;\n",
        "\n",
        "void printRobocode(int x) \n",
        "{\n",
        "   cout << x * x << endl;\n",
        "}\n",
        "\n",
        "int main() \n",
        "{\n",
        "    printRobocode(6);\n",
        "   \n",
        "   return 0;\n",
        "}"
      ],
      "execution_count": 0,
      "outputs": []
    },
    {
      "cell_type": "markdown",
      "metadata": {
        "id": "pqqQaUHGsild",
        "colab_type": "text"
      },
      "source": [
        "Значення `6` передається функції як аргумент і присвоюється формальному параметру функції: `x`."
      ]
    },
    {
      "cell_type": "markdown",
      "metadata": {
        "id": "5FMRf6QmUoXL",
        "colab_type": "text"
      },
      "source": [
        "\n",
        "\n",
        "---\n",
        "\n",
        "\n",
        "\n",
        "---\n",
        "\n",
        "\n",
        "# Тема уроку: Рекурсія. Масиви та функції\n",
        "\n",
        " "
      ]
    },
    {
      "cell_type": "markdown",
      "metadata": {
        "id": "HBnKHC1KbLmB",
        "colab_type": "text"
      },
      "source": [
        "Рекурсивна функція в C ++ - це функція, яка викликає себе. Щоб уникнути повторного запуску рекурсії, потрібно оголосити умову припинення.\n",
        "\n",
        "\n",
        "Щоб продемонструвати рекурсію, давайте створимо програму для обчислення факторіалу числа. У математиці термін факторіал означає добуток усіх натуральних чисел, менших або рівних певному додатньому цілому числу `n`. Факториал `n` позначається як `n!`\n",
        "\n",
        "Приклад:"
      ]
    },
    {
      "cell_type": "code",
      "metadata": {
        "id": "MMeTsV4eIaJs",
        "colab_type": "code",
        "colab": {}
      },
      "source": [
        "4! = 1*2*3*4"
      ],
      "execution_count": 0,
      "outputs": []
    },
    {
      "cell_type": "markdown",
      "metadata": {
        "id": "_BYA6S1Bs4BD",
        "colab_type": "text"
      },
      "source": [
        "\n",
        "Приклад: [repl.it/repls/ShadyCuteFlatassembler](https://repl.it/repls/ShadyCuteFlatassembler)\n"
      ]
    },
    {
      "cell_type": "code",
      "metadata": {
        "id": "uCE15TrBswo0",
        "colab_type": "code",
        "colab": {}
      },
      "source": [
        "#include <iostream>\n",
        "using namespace std;\n",
        "\n",
        "int factorial(int n) {\n",
        "  if (n==1) {\n",
        "    return 1;\n",
        "  }\n",
        "  else {\n",
        "    return n * factorial(n-1);\n",
        "  }\n",
        "}\n",
        "\n",
        "int main() \n",
        "{\n",
        "    cout << factorial(4);\n",
        "   \n",
        "   return 0;\n",
        "}"
      ],
      "execution_count": 0,
      "outputs": []
    },
    {
      "cell_type": "markdown",
      "metadata": {
        "id": "OOdbdoeIxreB",
        "colab_type": "text"
      },
      "source": [
        "Оператор` if` визначає умову виходу. У цьому випадку, коли `n` дорівнює одиниці, функція `factorial` поверне 1 (факторіал одного - один).\n",
        "Рекурсивний виклик функції знаходиться в операторі `else`, який повертає `n`, помножене на коефіцієнт `n-1`."
      ]
    },
    {
      "cell_type": "markdown",
      "metadata": {
        "id": "PVWCh0YYzKFm",
        "colab_type": "text"
      },
      "source": [
        "\n",
        "\n",
        "```\n",
        "Функція factorial викликає себе і продовжує це робити, поки аргумент не почне дорівнювати 1.\n",
        "```\n",
        "\n"
      ]
    },
    {
      "cell_type": "markdown",
      "metadata": {
        "id": "RtYfR1pxyaCQ",
        "colab_type": "text"
      },
      "source": [
        "Наприклад, якщо ви викликаєте функцію з аргументом `4`, вона виконається наступним чином:\n",
        "\n",
        "*   return 4 * factorial(3)\n",
        "*   4 * 3 factorial(2)\n",
        "*   4 * 3 * 2 factorial(1)\n",
        "*   4 * 3 * 2 * 1\n",
        "\n"
      ]
    },
    {
      "cell_type": "markdown",
      "metadata": {
        "id": "8rBgr5Xi0pmQ",
        "colab_type": "text"
      },
      "source": [
        "# Числа Фібоначчі\n",
        "\n",
        "Послідовність Фібоначчі виглядає так: \n",
        "`0, 1, 1, 2, 3, 5, 8, 13, 21, 34, 55, 89, 144, 233, 377, 610, 987 і так далі.`\n",
        "\n",
        "\n",
        "Приклад: [repl.it/repls/WarmSimilarRepo](https://repl.it/repls/WarmSimilarRepo)\n"
      ]
    },
    {
      "cell_type": "code",
      "metadata": {
        "id": "l_2m2TnC1YQJ",
        "colab_type": "code",
        "colab": {}
      },
      "source": [
        "#include <iostream>\n",
        "using namespace std;\n",
        "\n",
        "int factorial(int n) {\n",
        "  if (n==1) {\n",
        "    return 1;\n",
        "  }\n",
        "  else {\n",
        "    return n * factorial(n-1);\n",
        "  }\n",
        "}\n",
        "\n",
        "int main() \n",
        "{\n",
        "    cout << factorial(4);\n",
        "   \n",
        "   return 0;\n",
        "}"
      ],
      "execution_count": 0,
      "outputs": []
    },
    {
      "cell_type": "markdown",
      "metadata": {
        "id": "H1d58PNbvpcK",
        "colab_type": "text"
      },
      "source": [
        "# Масиви та функції\n",
        "\n",
        "Масив також може бути переданий функції як аргумент.\n",
        "Параметр слід визначати як масив, використовуючи квадратні дужки, при оголошенні функції.\n",
        "\n",
        "Наприклад:  [repl.it/repls/TrivialUnfinishedCensorware](https://repl.it/repls/TrivialUnfinishedCensorware)"
      ]
    },
    {
      "cell_type": "code",
      "metadata": {
        "id": "9qVHgKwG4Bj2",
        "colab_type": "code",
        "colab": {}
      },
      "source": [
        "#include <iostream>\n",
        "using namespace std;\n",
        "\n",
        "void printArray(int arr[], int size) {\n",
        "  for(int x = 0; x < size; x++) {\n",
        "    cout << arr[x] << endl;\n",
        "  }\n",
        "}\n",
        "\n",
        "int main() {\n",
        "  int arr[] = {1, 2, 3, 4, 5};\n",
        "  printArray(arr, 5);\n",
        "}"
      ],
      "execution_count": 0,
      "outputs": []
    },
    {
      "cell_type": "markdown",
      "metadata": {
        "id": "t-0VFIAhxKR5",
        "colab_type": "text"
      },
      "source": [
        "# Завдання #1\n",
        "\n",
        "Використовуючи рекурсію знайти 20 елемент такої послідовності:\n",
        "\n",
        "\n",
        "```\n",
        "1, 3, 5, 7, 9 ...\n",
        "```\n",
        "\n",
        "\n",
        "\n",
        "Відкрийте це посилання для того, щоб приступити до виконання завдання: [repl.it/repls/IdioticGiantMachinecode](https://repl.it/repls/IdioticGiantMachinecode)"
      ]
    },
    {
      "cell_type": "code",
      "metadata": {
        "id": "UhFHuyTw9Mxr",
        "colab_type": "code",
        "colab": {}
      },
      "source": [
        "#include <iostream>\n",
        "using namespace std;\n",
        "\n",
        "int sequence(int n) {\n",
        "  \n",
        "}\n",
        "\n",
        "int main() {\n",
        "  \n",
        "  cout << sequence(20);\n",
        "}"
      ],
      "execution_count": 0,
      "outputs": []
    }
  ]
}